{
  "nbformat": 4,
  "nbformat_minor": 0,
  "metadata": {
    "colab": {
      "provenance": []
    },
    "kernelspec": {
      "name": "python3",
      "display_name": "Python 3"
    },
    "language_info": {
      "name": "python"
    }
  },
  "cells": [
    {
      "cell_type": "code",
      "execution_count": 1,
      "metadata": {
        "id": "TlIN5h-Z1KUd"
      },
      "outputs": [],
      "source": [
        "users = ['Ryan', 'Danielle',  'Vijay', 'Chris']\n",
        "movies = ['Star Wars', 'The Dark Knight', 'Shrek', 'The Incredibles', 'Bleu', 'Memento']\n",
        "features = ['Action', 'Sci-Fi', 'Comedy', 'Cartoon', 'Drama']\n",
        "\n",
        "num_users = len(users)\n",
        "num_movies = len(movies)\n",
        "num_feats = len(features)\n",
        "num_recommendations = 2"
      ]
    },
    {
      "cell_type": "code",
      "source": [
        "print(num_users, num_movies, num_feats)"
      ],
      "metadata": {
        "colab": {
          "base_uri": "https://localhost:8080/"
        },
        "id": "RnWf4iWJ2TKq",
        "outputId": "7d2c2d26-d2ba-45fa-8534-3394eb3633e2"
      },
      "execution_count": 3,
      "outputs": [
        {
          "output_type": "stream",
          "name": "stdout",
          "text": [
            "4 6 5\n"
          ]
        }
      ]
    },
    {
      "cell_type": "code",
      "source": [
        "import torch\n",
        "\n",
        "# Users' ratings for movies\n",
        "users_movies = torch.tensor([\n",
        "    [4, 6, 8, 0, 0, 0],\n",
        "    [0, 0, 10, 0, 8, 3],\n",
        "    [0, 6, 0, 0, 3, 7],\n",
        "    [10, 9, 0, 5, 0, 2]\n",
        "], dtype=torch.float32)\n",
        "\n",
        "# Features of the movies (one-hot encoded)\n",
        "# Columns might represent categories like ['Action', 'Sci-Fi', 'Comedy', 'Cartoon', 'Drama']\n",
        "movies_feats = torch.tensor([\n",
        "    [1, 1, 0, 0, 1],\n",
        "    [1, 1, 0, 0, 0],\n",
        "    [0, 0, 1, 1, 0],\n",
        "    [1, 0, 1, 1, 0],\n",
        "    [0, 0, 0, 0, 1],\n",
        "    [1, 0, 0, 0, 1]\n",
        "], dtype=torch.float32)\n"
      ],
      "metadata": {
        "id": "izXieskT15EV"
      },
      "execution_count": 2,
      "outputs": []
    },
    {
      "cell_type": "code",
      "source": [
        "# Compute users' feature vectors\n",
        "users_feats = torch.matmul(users_movies, movies_feats)"
      ],
      "metadata": {
        "id": "xpBQfHqx2EjV"
      },
      "execution_count": 4,
      "outputs": []
    },
    {
      "cell_type": "code",
      "source": [
        "users_feats"
      ],
      "metadata": {
        "colab": {
          "base_uri": "https://localhost:8080/"
        },
        "id": "7iGHoqWC2xbZ",
        "outputId": "cf52e1c1-1630-4968-ccde-2e8aa8462e76"
      },
      "execution_count": 5,
      "outputs": [
        {
          "output_type": "execute_result",
          "data": {
            "text/plain": [
              "tensor([[10., 10.,  8.,  8.,  4.],\n",
              "        [ 3.,  0., 10., 10., 11.],\n",
              "        [13.,  6.,  0.,  0., 10.],\n",
              "        [26., 19.,  5.,  5., 12.]])"
            ]
          },
          "metadata": {},
          "execution_count": 5
        }
      ]
    },
    {
      "cell_type": "code",
      "source": [
        "# Normalize each user's feature vector to sum to 1\n",
        "users_feats = users_feats / users_feats.sum(dim=1, keepdim=True)"
      ],
      "metadata": {
        "id": "Yy_SZ04w2zYg"
      },
      "execution_count": 6,
      "outputs": []
    },
    {
      "cell_type": "code",
      "source": [
        "print(\"Normalized User Feature Vectors:\", users_feats)"
      ],
      "metadata": {
        "colab": {
          "base_uri": "https://localhost:8080/"
        },
        "id": "R101N3Wt3b_5",
        "outputId": "a7433c10-b28e-49d6-c134-7ec04e278291"
      },
      "execution_count": 8,
      "outputs": [
        {
          "output_type": "stream",
          "name": "stdout",
          "text": [
            "Normalized User Feature Vectors: tensor([[0.2500, 0.2500, 0.2000, 0.2000, 0.1000],\n",
            "        [0.0882, 0.0000, 0.2941, 0.2941, 0.3235],\n",
            "        [0.4483, 0.2069, 0.0000, 0.0000, 0.3448],\n",
            "        [0.3881, 0.2836, 0.0746, 0.0746, 0.1791]])\n"
          ]
        }
      ]
    },
    {
      "cell_type": "code",
      "source": [
        "top_users_features = torch.topk(users_feats, k=num_feats, dim=1)[1]"
      ],
      "metadata": {
        "id": "4COvSBd-3eWh"
      },
      "execution_count": 9,
      "outputs": []
    },
    {
      "cell_type": "code",
      "source": [
        "top_users_features"
      ],
      "metadata": {
        "colab": {
          "base_uri": "https://localhost:8080/"
        },
        "id": "C3qoFcjE4Oh4",
        "outputId": "ff82db12-2558-458e-8181-191fbc09dc82"
      },
      "execution_count": 10,
      "outputs": [
        {
          "output_type": "execute_result",
          "data": {
            "text/plain": [
              "tensor([[1, 0, 2, 3, 4],\n",
              "        [4, 2, 3, 0, 1],\n",
              "        [0, 4, 1, 3, 2],\n",
              "        [0, 1, 4, 3, 2]])"
            ]
          },
          "metadata": {},
          "execution_count": 10
        }
      ]
    },
    {
      "cell_type": "code",
      "source": [
        "for i in range(len(users)):\n",
        "    selected_features = [features[index] for index in top_users_features[i]]\n",
        "    print('{}: {}'.format(users[i], selected_features))"
      ],
      "metadata": {
        "colab": {
          "base_uri": "https://localhost:8080/"
        },
        "id": "tH7TRtVq389R",
        "outputId": "12747f13-cbb3-4115-f942-b8c628ebba70"
      },
      "execution_count": 11,
      "outputs": [
        {
          "output_type": "stream",
          "name": "stdout",
          "text": [
            "Ryan: ['Sci-Fi', 'Action', 'Comedy', 'Cartoon', 'Drama']\n",
            "Danielle: ['Drama', 'Comedy', 'Cartoon', 'Action', 'Sci-Fi']\n",
            "Vijay: ['Action', 'Drama', 'Sci-Fi', 'Cartoon', 'Comedy']\n",
            "Chris: ['Action', 'Sci-Fi', 'Drama', 'Cartoon', 'Comedy']\n"
          ]
        }
      ]
    },
    {
      "cell_type": "code",
      "source": [
        "users_ratings = torch.matmul(users_feats, movies_feats.t())\n",
        "users_ratings"
      ],
      "metadata": {
        "colab": {
          "base_uri": "https://localhost:8080/"
        },
        "id": "jmLlXk-_4Ugu",
        "outputId": "6dd5d168-8b54-48af-d4fc-f4ab2d403c2d"
      },
      "execution_count": 12,
      "outputs": [
        {
          "output_type": "execute_result",
          "data": {
            "text/plain": [
              "tensor([[0.6000, 0.5000, 0.4000, 0.6500, 0.1000, 0.3500],\n",
              "        [0.4118, 0.0882, 0.5882, 0.6765, 0.3235, 0.4118],\n",
              "        [1.0000, 0.6552, 0.0000, 0.4483, 0.3448, 0.7931],\n",
              "        [0.8507, 0.6716, 0.1493, 0.5373, 0.1791, 0.5672]])"
            ]
          },
          "metadata": {},
          "execution_count": 12
        }
      ]
    },
    {
      "cell_type": "code",
      "source": [
        "# we will mask the ratings matrix to set ratings to zero for movies that a user has already rated\n",
        "users_movies_mask = users_movies > 0\n",
        "users_ratings_new = torch.where(users_movies_mask, torch.zeros_like(users_ratings), users_ratings)"
      ],
      "metadata": {
        "id": "RU69if2K4we2"
      },
      "execution_count": 13,
      "outputs": []
    },
    {
      "cell_type": "code",
      "source": [
        "users_ratings_new"
      ],
      "metadata": {
        "colab": {
          "base_uri": "https://localhost:8080/"
        },
        "id": "zAOlYkht40Re",
        "outputId": "3f21d6b6-70a5-4386-941e-1d8ec19399a0"
      },
      "execution_count": 14,
      "outputs": [
        {
          "output_type": "execute_result",
          "data": {
            "text/plain": [
              "tensor([[0.0000, 0.0000, 0.0000, 0.6500, 0.1000, 0.3500],\n",
              "        [0.4118, 0.0882, 0.0000, 0.6765, 0.0000, 0.0000],\n",
              "        [1.0000, 0.0000, 0.0000, 0.4483, 0.0000, 0.0000],\n",
              "        [0.0000, 0.0000, 0.1493, 0.0000, 0.1791, 0.0000]])"
            ]
          },
          "metadata": {},
          "execution_count": 14
        }
      ]
    },
    {
      "cell_type": "code",
      "source": [
        "top_movies = torch.topk(users_ratings_new, k=num_recommendations, dim=1)[1]"
      ],
      "metadata": {
        "id": "y-cDlXUE4_as"
      },
      "execution_count": 15,
      "outputs": []
    },
    {
      "cell_type": "code",
      "source": [
        "for i in range(len(users)):\n",
        "    recommended_movie_names = [movies[index] for index in top_movies[i]]\n",
        "    print('{}: {}'.format(users[i], recommended_movie_names))"
      ],
      "metadata": {
        "colab": {
          "base_uri": "https://localhost:8080/"
        },
        "id": "27NCQYL-5M8u",
        "outputId": "f377c1d9-f41b-4eda-fdf1-2b2787088f3a"
      },
      "execution_count": 16,
      "outputs": [
        {
          "output_type": "stream",
          "name": "stdout",
          "text": [
            "Ryan: ['The Incredibles', 'Memento']\n",
            "Danielle: ['The Incredibles', 'Star Wars']\n",
            "Vijay: ['Star Wars', 'The Incredibles']\n",
            "Chris: ['Bleu', 'Shrek']\n"
          ]
        }
      ]
    }
  ]
}